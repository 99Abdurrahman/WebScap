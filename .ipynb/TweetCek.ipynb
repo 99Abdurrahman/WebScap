{
 "cells": [
  {
   "cell_type": "code",
   "execution_count": 10,
   "id": "5976ff06",
   "metadata": {
    "collapsed": true,
    "jupyter": {
     "outputs_hidden": true
    }
   },
   "outputs": [
    {
     "name": "stdout",
     "output_type": "stream",
     "text": [
      "Requirement already satisfied: snscrape in c:\\users\\guzel\\anaconda3\\lib\\site-packages (0.5.0.20230113)\n",
      "Requirement already satisfied: lxml in c:\\users\\guzel\\anaconda3\\lib\\site-packages (from snscrape) (4.9.1)\n",
      "Requirement already satisfied: filelock in c:\\users\\guzel\\anaconda3\\lib\\site-packages (from snscrape) (3.6.0)\n",
      "Requirement already satisfied: requests[socks] in c:\\users\\guzel\\anaconda3\\lib\\site-packages (from snscrape) (2.28.1)\n",
      "Requirement already satisfied: beautifulsoup4 in c:\\users\\guzel\\anaconda3\\lib\\site-packages (from snscrape) (4.11.1)\n",
      "Requirement already satisfied: soupsieve>1.2 in c:\\users\\guzel\\anaconda3\\lib\\site-packages (from beautifulsoup4->snscrape) (2.3.2.post1)\n",
      "Requirement already satisfied: certifi>=2017.4.17 in c:\\users\\guzel\\anaconda3\\lib\\site-packages (from requests[socks]->snscrape) (2022.12.7)\n",
      "Requirement already satisfied: idna<4,>=2.5 in c:\\users\\guzel\\anaconda3\\lib\\site-packages (from requests[socks]->snscrape) (3.4)\n",
      "Requirement already satisfied: urllib3<1.27,>=1.21.1 in c:\\users\\guzel\\anaconda3\\lib\\site-packages (from requests[socks]->snscrape) (1.26.13)\n",
      "Requirement already satisfied: charset-normalizer<3,>=2 in c:\\users\\guzel\\anaconda3\\lib\\site-packages (from requests[socks]->snscrape) (2.0.4)\n",
      "Requirement already satisfied: PySocks!=1.5.7,>=1.5.6 in c:\\users\\guzel\\anaconda3\\lib\\site-packages (from requests[socks]->snscrape) (1.7.1)\n"
     ]
    }
   ],
   "source": [
    "!pip3 install snscrape\n",
    " # snscrape kütüphanesi kurulu değilse yüklüyoruz. \n",
    " #Bu kütüphane twitter,facebook veya diğer platformlarda kullanabilirsin. "
   ]
  },
  {
   "cell_type": "markdown",
   "id": "0886e05f",
   "metadata": {},
   "source": [
    "# Gerekli kütüphanelerin import etmek"
   ]
  },
  {
   "cell_type": "code",
   "execution_count": 3,
   "id": "c3e30ddb",
   "metadata": {},
   "outputs": [],
   "source": [
    "import snscrape.modules.twitter as sntwitter\n",
    "import pandas as pd\n",
    "from warnings import filterwarnings\n",
    "filterwarnings(\"ignore\")"
   ]
  },
  {
   "cell_type": "code",
   "execution_count": 124,
   "id": "6ad19d1b",
   "metadata": {},
   "outputs": [],
   "source": [
    "sorgu=\"https://twitter.com/OguzhanUgur/status/1623848949080522754\" # burada istediğin link yapıştır \n",
    "tweets=[]\n",
    "limit=23100  # istediğin kadar bir limit belirleyebilirsin\n",
    "for tweet in sntwitter.TwitterSearchScraper(sorgu).get_items():\n",
    "    \n",
    "    if len(tweets)==limit:\n",
    "        break\n",
    "        \n",
    "    else:\n",
    "        tweets.append([tweet.date,tweet.likeCount,tweet.replyCount,tweet.retweetCount,tweet.place,tweet.content])\n",
    "        \n",
    "    \n",
    "df=pd.DataFrame(tweets,columns=['date','like','reply','retweet','place','tweet'])"
   ]
  },
  {
   "cell_type": "code",
   "execution_count": 126,
   "id": "6b0651b9",
   "metadata": {
    "scrolled": true
   },
   "outputs": [],
   "source": [
    "df.to_csv(\"Tweets.csv\")  # burada df csv 'e çevirebilirsin"
   ]
  }
 ],
 "metadata": {
  "kernelspec": {
   "display_name": "Python 3 (ipykernel)",
   "language": "python",
   "name": "python3"
  },
  "language_info": {
   "codemirror_mode": {
    "name": "ipython",
    "version": 3
   },
   "file_extension": ".py",
   "mimetype": "text/x-python",
   "name": "python",
   "nbconvert_exporter": "python",
   "pygments_lexer": "ipython3",
   "version": "3.9.15"
  }
 },
 "nbformat": 4,
 "nbformat_minor": 5
}
